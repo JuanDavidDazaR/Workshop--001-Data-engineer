{
 "cells": [
  {
   "cell_type": "markdown",
   "metadata": {},
   "source": [
    "Lo primero se debe imporatr las librerias que vamosa utlizar para cargar losda tos a la abse de datos, que ene sta caso son pandas para el manejo de losd atos. "
   ]
  },
  {
   "cell_type": "code",
   "execution_count": 56,
   "metadata": {},
   "outputs": [],
   "source": [
    "import sys\n",
    "import os\n",
    "sys.path.append(os.path.abspath(os.path.join(os.getcwd(), \"..\")))\n",
    "import pandas as pd\n",
    "import psycopg2\n",
    "from src.database.db_conection import connect_db\n",
    "from src.database.database_create import create_database\n",
    "from src.database.raw_candidates import create_raw_table\n",
    "\n",
    "\n"
   ]
  },
  {
   "cell_type": "code",
   "execution_count": 43,
   "metadata": {},
   "outputs": [
    {
     "name": "stdout",
     "output_type": "stream",
     "text": [
      "   first_name   last_name                      email application_date  \\\n",
      "0  Bernadette   Langworth        leonard91@yahoo.com       2021-02-26   \n",
      "1      Camryn    Reynolds        zelda56@hotmail.com       2021-09-09   \n",
      "2       Larue      Spinka   okey_schultz41@gmail.com       2020-04-14   \n",
      "3        Arch      Spinka     elvera_kulas@yahoo.com       2020-10-01   \n",
      "4       Larue  Altenwerth  minnie.gislason@gmail.com       2020-05-20   \n",
      "\n",
      "   country  yoe  seniority                         technology  \\\n",
      "0   Norway    2     Intern                      Data Engineer   \n",
      "1   Panama   10     Intern                      Data Engineer   \n",
      "2  Belarus    4  Mid-Level                     Client Success   \n",
      "3  Eritrea   25    Trainee                          QA Manual   \n",
      "4  Myanmar   13  Mid-Level  Social Media Community Management   \n",
      "\n",
      "   code_challenge_score  technical_interview_score  \n",
      "0                     3                          3  \n",
      "1                     2                         10  \n",
      "2                    10                          9  \n",
      "3                     7                          1  \n",
      "4                     9                          7  \n"
     ]
    }
   ],
   "source": [
    "data = pd.read_csv('../data/candidates.csv', sep=\";\", encoding='utf-8')\n",
    "data.columns = data.columns.str.strip().str.lower().str.replace(\" \", \"_\")\n",
    "print(data.head())"
   ]
  },
  {
   "cell_type": "code",
   "execution_count": 44,
   "metadata": {},
   "outputs": [
    {
     "data": {
      "text/plain": [
       "first_name                   50000\n",
       "last_name                    50000\n",
       "email                        50000\n",
       "application_date             50000\n",
       "country                      50000\n",
       "yoe                          50000\n",
       "seniority                    50000\n",
       "technology                   50000\n",
       "code_challenge_score         50000\n",
       "technical_interview_score    50000\n",
       "dtype: int64"
      ]
     },
     "execution_count": 44,
     "metadata": {},
     "output_type": "execute_result"
    }
   ],
   "source": [
    "data.count()"
   ]
  },
  {
   "cell_type": "markdown",
   "metadata": {},
   "source": [
    "depues de leer la csv con los datos, ahora vamos a crear a la base de datos"
   ]
  },
  {
   "cell_type": "code",
   "execution_count": 45,
   "metadata": {},
   "outputs": [
    {
     "name": "stdout",
     "output_type": "stream",
     "text": [
      "Creando la base de datos...\n",
      "Base de datos 'candidates' creada exitosamente.\n",
      "Base de datos creada exitosamente\n"
     ]
    }
   ],
   "source": [
    "# Llamar a la función para crear la base de datos\n",
    "if __name__ == \"__main__\":\n",
    "    print(\"Creando la base de datos...\")\n",
    "    create_database()  \n",
    "    print(\"Base de datos creada exitosamente\")"
   ]
  },
  {
   "cell_type": "markdown",
   "metadata": {},
   "source": [
    "depues creamos la tabla \n"
   ]
  },
  {
   "cell_type": "code",
   "execution_count": 46,
   "metadata": {},
   "outputs": [
    {
     "name": "stdout",
     "output_type": "stream",
     "text": [
      "Creando la tabla...\n",
      "Tabla raw_candidates creada correctamente.\n",
      "Tabla creada exitosamente.\n"
     ]
    }
   ],
   "source": [
    "if __name__ == \"__main__\":\n",
    "    print(\"Creando la tabla...\")\n",
    "    create_raw_table()\n",
    "    print(\"Tabla creada exitosamente.\")"
   ]
  },
  {
   "cell_type": "markdown",
   "metadata": {},
   "source": [
    "Cargamos el CSV a la base de datos y tablas ya creadas."
   ]
  },
  {
   "cell_type": "code",
   "execution_count": null,
   "metadata": {},
   "outputs": [],
   "source": [
    "conn = connect_db(db_name=\"candidates\")\n",
    "cursor = conn.cursor()"
   ]
  },
  {
   "cell_type": "code",
   "execution_count": null,
   "metadata": {},
   "outputs": [
    {
     "name": "stdout",
     "output_type": "stream",
     "text": [
      "Datos insertados correctamente en la base de datos\n"
     ]
    }
   ],
   "source": [
    "\n",
    "# Insertar datos en la tabla\n",
    "for _, row in data.iterrows():\n",
    "    cursor.execute(\n",
    "        \"\"\"\n",
    "        INSERT INTO raw_candidates \n",
    "        (first_name, last_name, email, application_date, country, yoe, seniority, technology, \n",
    "        code_challenge_score, technical_interview_score) \n",
    "        VALUES (%s, %s, %s, %s, %s, %s, %s, %s, %s, %s)\n",
    "        \"\"\",\n",
    "        (\n",
    "            row[\"first_name\"], row[\"last_name\"], row[\"email\"], row[\"application_date\"],\n",
    "            row[\"country\"], row[\"yoe\"], row[\"seniority\"], row[\"technology\"],\n",
    "            row[\"code_challenge_score\"], row[\"technical_interview_score\"]\n",
    "        )\n",
    "    )\n",
    "\n",
    "conn.commit()\n",
    "print(\"Datos insertados correctamente en la base de datos.\")\n",
    "\n",
    "\n"
   ]
  },
  {
   "cell_type": "code",
   "execution_count": 57,
   "metadata": {},
   "outputs": [
    {
     "name": "stderr",
     "output_type": "stream",
     "text": [
      "C:\\Users\\ASUS\\AppData\\Local\\Temp\\ipykernel_21928\\2455145920.py:2: UserWarning: pandas only supports SQLAlchemy connectable (engine/connection) or database string URI or sqlite3 DBAPI2 connection. Other DBAPI2 objects are not tested. Please consider using SQLAlchemy.\n",
      "  df = pd.read_sql_query(\"SELECT * FROM raw_candidates\", conn)\n"
     ]
    },
    {
     "name": "stdout",
     "output_type": "stream",
     "text": [
      "   id  first_name   last_name                      email application_date  \\\n",
      "0   1  Bernadette   Langworth        leonard91@yahoo.com       2021-02-26   \n",
      "1   2      Camryn    Reynolds        zelda56@hotmail.com       2021-09-09   \n",
      "2   3       Larue      Spinka   okey_schultz41@gmail.com       2020-04-14   \n",
      "3   4        Arch      Spinka     elvera_kulas@yahoo.com       2020-10-01   \n",
      "4   5       Larue  Altenwerth  minnie.gislason@gmail.com       2020-05-20   \n",
      "\n",
      "   country  yoe  seniority                         technology  \\\n",
      "0   Norway    2     Intern                      Data Engineer   \n",
      "1   Panama   10     Intern                      Data Engineer   \n",
      "2  Belarus    4  Mid-Level                     Client Success   \n",
      "3  Eritrea   25    Trainee                          QA Manual   \n",
      "4  Myanmar   13  Mid-Level  Social Media Community Management   \n",
      "\n",
      "   code_challenge_score  technical_interview_score  \n",
      "0                     3                          3  \n",
      "1                     2                         10  \n",
      "2                    10                          9  \n",
      "3                     7                          1  \n",
      "4                     9                          7  \n"
     ]
    }
   ],
   "source": [
    "# Leer datos con Pandas usando psycopg2 (obteniendo un DataFrame)\n",
    "df = pd.read_sql_query(\"SELECT * FROM raw_candidates\", conn)\n",
    "print(df.head())\n"
   ]
  },
  {
   "cell_type": "code",
   "execution_count": null,
   "metadata": {},
   "outputs": [],
   "source": [
    "# Cerrar conexión\n",
    "cursor.close()\n",
    "conn.close()"
   ]
  }
 ],
 "metadata": {
  "kernelspec": {
   "display_name": "venv",
   "language": "python",
   "name": "python3"
  },
  "language_info": {
   "codemirror_mode": {
    "name": "ipython",
    "version": 3
   },
   "file_extension": ".py",
   "mimetype": "text/x-python",
   "name": "python",
   "nbconvert_exporter": "python",
   "pygments_lexer": "ipython3",
   "version": "3.13.2"
  }
 },
 "nbformat": 4,
 "nbformat_minor": 2
}
