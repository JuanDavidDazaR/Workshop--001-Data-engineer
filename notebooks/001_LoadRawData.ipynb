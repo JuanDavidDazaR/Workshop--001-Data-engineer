{
 "cells": [
  {
   "cell_type": "markdown",
   "metadata": {},
   "source": [
    "Lo primero se debe imporatr las librerias que vamosa utlizar para cargar losda tos a la abse de datos, que ene sta caso son pandas para el manejo de losd atos. "
   ]
  },
  {
   "cell_type": "code",
   "execution_count": null,
   "metadata": {},
   "outputs": [],
   "source": [
    "import pandas as pd\n",
    "import psycopg2\n",
    "from src.database.db_conection import connect_db\n"
   ]
  },
  {
   "cell_type": "code",
   "execution_count": null,
   "metadata": {},
   "outputs": [],
   "source": [
    "data = pd.read_csv('../data/candidates.csv')"
   ]
  },
  {
   "cell_type": "code",
   "execution_count": null,
   "metadata": {},
   "outputs": [],
   "source": [
    "# Cargar el archivo CSV\n",
    "csv_path = \"data/candidates.csv\"\n",
    "df = pd.read_csv(csv_path)\n",
    "\n",
    "# Conectar a la base de datos\n",
    "conn = connect_db()\n",
    "cursor = conn.cursor()\n",
    "\n",
    "# Crear la tabla si no existe\n",
    "cursor.execute(\"\"\"\n",
    "    CREATE TABLE IF NOT EXISTS candidates (\n",
    "        id SERIAL PRIMARY KEY,\n",
    "        first_name VARCHAR(100),\n",
    "        last_name VARCHAR(100),\n",
    "        email VARCHAR(100) UNIQUE,\n",
    "        country VARCHAR(50),\n",
    "        application_date DATE,\n",
    "        yoe INT,\n",
    "        seniority VARCHAR(50),\n",
    "        technology VARCHAR(100),\n",
    "        code_challenge_score FLOAT,\n",
    "        technical_interview FLOAT\n",
    "    );\n",
    "\"\"\")\n",
    "conn.commit()\n",
    "\n",
    "# Insertar datos en la tabla\n",
    "for _, row in df.iterrows():\n",
    "    cursor.execute(\"\"\"\n",
    "        INSERT INTO candidates (first_name, last_name, email, country, application_date, yoe, seniority, technology, code_challenge_score, technical_interview)\n",
    "        VALUES (%s, %s, %s, %s, %s, %s, %s, %s, %s, %s)\n",
    "        ON CONFLICT (email) DO NOTHING;\n",
    "    \"\"\", (\n",
    "        row[\"First Name\"], row[\"Last Name\"], row[\"Email\"], row[\"Country\"],\n",
    "        row[\"Application Date\"], row[\"Yoe (years of experience)\"],\n",
    "        row[\"Seniority\"], row[\"Technology\"],\n",
    "        row[\"Code Challenge Score\"], row[\"Technical Interview\"]\n",
    "    ))\n",
    "\n",
    "conn.commit()\n",
    "cursor.close()\n",
    "conn.close()\n",
    "\n",
    "print(\"Datos cargados correctamente en la base de datos.\")"
   ]
  }
 ],
 "metadata": {
  "kernelspec": {
   "display_name": "venv",
   "language": "python",
   "name": "python3"
  },
  "language_info": {
   "codemirror_mode": {
    "name": "ipython",
    "version": 3
   },
   "file_extension": ".py",
   "mimetype": "text/x-python",
   "name": "python",
   "nbconvert_exporter": "python",
   "pygments_lexer": "ipython3",
   "version": "3.13.2"
  }
 },
 "nbformat": 4,
 "nbformat_minor": 2
}
