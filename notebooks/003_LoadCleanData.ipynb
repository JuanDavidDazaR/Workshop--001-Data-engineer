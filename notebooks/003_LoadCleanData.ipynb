{
 "cells": [
  {
   "cell_type": "markdown",
   "metadata": {},
   "source": [
    "# loading of clean data into the database"
   ]
  },
  {
   "cell_type": "markdown",
   "metadata": {},
   "source": [
    "### IMPORTING NECESSARY LIBRARIES "
   ]
  },
  {
   "cell_type": "markdown",
   "metadata": {},
   "source": [
    "This section of the code performs the import of the libraries needed to load, manipulate and store data in a relational database. In addition, the working environment is adjusted to allow the import of modules from higher levels of the directory.\n",
    "The function sys.path.append(os.path.abspath(os.path.join(os.getcwd(), “..”))) adds the parent directory to the sys.path, facilitating the import of modules from higher paths within the project. connect_db (from src.database.db_connection): Provides functions to establish the connection with the database database."
   ]
  },
  {
   "cell_type": "code",
   "execution_count": 1,
   "metadata": {},
   "outputs": [],
   "source": [
    "import sys\n",
    "import os\n",
    "sys.path.append(os.path.abspath(os.path.join(os.getcwd(), \"..\")))\n",
    "import pandas as pd\n",
    "from src.database.db_conection import connect_db\n"
   ]
  },
  {
   "cell_type": "code",
   "execution_count": 2,
   "metadata": {},
   "outputs": [],
   "source": [
    "engine = connect_db()"
   ]
  },
  {
   "cell_type": "markdown",
   "metadata": {},
   "source": [
    "Establishes a connection to the database using SQLAlchemy, an ORM (Object Relational Mapper) widely used in data analysis environments. \n",
    "\n",
    "This function, located in src.database.db_connection, is responsible for establishing the connection to the database engine. a engine variable stores the connection object returned by connect_db().\n",
    "This object will allow the execution of SQL queries and interaction with the database from Python."
   ]
  },
  {
   "cell_type": "markdown",
   "metadata": {},
   "source": [
    "### loading data into a dataframe"
   ]
  },
  {
   "cell_type": "markdown",
   "metadata": {},
   "source": [
    "load the rawCandidates table into a dataframe for manipulation and cleaning, as this table has dirty data and some changes are needed for cleaning."
   ]
  },
  {
   "cell_type": "code",
   "execution_count": 3,
   "metadata": {},
   "outputs": [
    {
     "name": "stdout",
     "output_type": "stream",
     "text": [
      "   First Name   Last Name                      Email Application Date  \\\n",
      "0  Bernadette   Langworth        leonard91@yahoo.com       2021-02-26   \n",
      "1      Camryn    Reynolds        zelda56@hotmail.com       2021-09-09   \n",
      "2       Larue      Spinka   okey_schultz41@gmail.com       2020-04-14   \n",
      "3        Arch      Spinka     elvera_kulas@yahoo.com       2020-10-01   \n",
      "4       Larue  Altenwerth  minnie.gislason@gmail.com       2020-05-20   \n",
      "\n",
      "   Country  YOE  Seniority                         Technology  \\\n",
      "0   Norway    2     Intern                      Data Engineer   \n",
      "1   Panama   10     Intern                      Data Engineer   \n",
      "2  Belarus    4  Mid-Level                     Client Success   \n",
      "3  Eritrea   25    Trainee                          QA Manual   \n",
      "4  Myanmar   13  Mid-Level  Social Media Community Management   \n",
      "\n",
      "   Code Challenge Score  Technical Interview Score  \n",
      "0                     3                          3  \n",
      "1                     2                         10  \n",
      "2                    10                          9  \n",
      "3                     7                          1  \n",
      "4                     9                          7  \n"
     ]
    }
   ],
   "source": [
    "df = pd.read_sql_query('SELECT * FROM \"rawCandidates\"', engine)\n",
    "print(df.head())"
   ]
  },
  {
   "cell_type": "markdown",
   "metadata": {},
   "source": [
    "A connection to the database is established and the data stored in the rawCandidates table is extracted.  A dataframe is created to start manipulating the data. In addition to view the first rows of the datset."
   ]
  },
  {
   "cell_type": "markdown",
   "metadata": {},
   "source": [
    "### Duplicate data"
   ]
  },
  {
   "cell_type": "markdown",
   "metadata": {},
   "source": [
    "Before loading data into a destination (database). If duplicates are found in the Object columns, i.e. if a candidate applied more than once, additional measures could be taken such as:\n",
    "\n",
    "Elimination of duplicates.\n",
    "Consolidation of similar records."
   ]
  },
  {
   "cell_type": "code",
   "execution_count": null,
   "metadata": {},
   "outputs": [
    {
     "name": "stdout",
     "output_type": "stream",
     "text": [
      "No hay candidatos duplicados.\n"
     ]
    }
   ],
   "source": [
    "duplicates = df[df.duplicated(subset=['First Name', 'Last Name', 'Email'], keep=False)]\n",
    "\n",
    "if not duplicates.empty:\n",
    "    print(\"Duplicate candidates found:\")\n",
    "    print(duplicates)\n",
    "else:\n",
    "    print(\"No duplicate candidates.\")\n"
   ]
  },
  {
   "cell_type": "markdown",
   "metadata": {},
   "source": [
    "As we already knew from the same EDA case, there is no duplicate data. "
   ]
  },
  {
   "cell_type": "markdown",
   "metadata": {},
   "source": [
    "### Change of data type from Applicate Date column to date type"
   ]
  },
  {
   "cell_type": "code",
   "execution_count": null,
   "metadata": {},
   "outputs": [],
   "source": [
    "df[\"Application Date\"] = pd.to_datetime(df[\"Application Date\"])"
   ]
  },
  {
   "cell_type": "markdown",
   "metadata": {},
   "source": [
    "### Null data"
   ]
  },
  {
   "cell_type": "markdown",
   "metadata": {},
   "source": [
    "Analyzes a DataFrame df to detect the presence of null values in each column. This is a fundamental practice in the data cleansing phase of a process, since null values can affect analysis, calculations and data integrity."
   ]
  },
  {
   "cell_type": "code",
   "execution_count": 5,
   "metadata": {},
   "outputs": [
    {
     "name": "stdout",
     "output_type": "stream",
     "text": [
      "Valores nulos encontrados:\n",
      "First Name                   0\n",
      "Last Name                    0\n",
      "Email                        0\n",
      "Application Date             0\n",
      "Country                      0\n",
      "YOE                          0\n",
      "Seniority                    0\n",
      "Technology                   0\n",
      "Code Challenge Score         0\n",
      "Technical Interview Score    0\n",
      "dtype: int64\n"
     ]
    }
   ],
   "source": [
    "null_counts = df.isnull().sum()\n",
    "\n",
    "if not null_counts.empty:\n",
    "    print(\"Valores nulos encontrados:\")\n",
    "    print(null_counts)\n",
    "else:\n",
    "    print(\"No hay valores nulos.\")"
   ]
  },
  {
   "cell_type": "markdown",
   "metadata": {},
   "source": [
    "There is no null data in any column when the result is displayed. There is no need to delete or do an additional statistic operation to replace. "
   ]
  },
  {
   "cell_type": "markdown",
   "metadata": {},
   "source": [
    "### Changing column names"
   ]
  },
  {
   "cell_type": "markdown",
   "metadata": {},
   "source": [
    "The columns of the DataFrame df were renamed using the Camel Case (camelCase) method. This change is made to improve the understanding and consistency of the data within the process. The normalization of column names facilitates integration with databases, and in the future if the project needs to use APIs or other systems that require a uniform naming structure."
   ]
  },
  {
   "cell_type": "code",
   "execution_count": 6,
   "metadata": {},
   "outputs": [
    {
     "name": "stdout",
     "output_type": "stream",
     "text": [
      "    firstName    lastName                      email applicationDate  country  \\\n",
      "0  Bernadette   Langworth        leonard91@yahoo.com      2021-02-26   Norway   \n",
      "1      Camryn    Reynolds        zelda56@hotmail.com      2021-09-09   Panama   \n",
      "2       Larue      Spinka   okey_schultz41@gmail.com      2020-04-14  Belarus   \n",
      "3        Arch      Spinka     elvera_kulas@yahoo.com      2020-10-01  Eritrea   \n",
      "4       Larue  Altenwerth  minnie.gislason@gmail.com      2020-05-20  Myanmar   \n",
      "\n",
      "   yearsOfExperience  seniority                         technology  \\\n",
      "0                  2     Intern                      Data Engineer   \n",
      "1                 10     Intern                      Data Engineer   \n",
      "2                  4  Mid-Level                     Client Success   \n",
      "3                 25    Trainee                          QA Manual   \n",
      "4                 13  Mid-Level  Social Media Community Management   \n",
      "\n",
      "   codeChallengeScore  technicalInterviewScore  \n",
      "0                   3                        3  \n",
      "1                   2                       10  \n",
      "2                  10                        9  \n",
      "3                   7                        1  \n",
      "4                   9                        7  \n"
     ]
    }
   ],
   "source": [
    "df = df.rename(columns={\"First Name\": \"firstName\", \n",
    "                        \"Last Name\": \"lastName\", \n",
    "                        \"Email\": \"email\", \n",
    "                        \"Country\": \"country\",\n",
    "                        \"Application Date\": \"applicationDate\",\n",
    "                        \"YOE\": \"yearsOfExperience\",\n",
    "                        \"Seniority\": \"seniority\",\n",
    "                        \"Technology\": \"technology\",\n",
    "                        \"Code Challenge Score\": \"codeChallengeScore\",\n",
    "                        \"Technical Interview Score\": \"technicalInterviewScore\"})\n",
    "\n",
    "print(df.head())\n"
   ]
  },
  {
   "cell_type": "markdown",
   "metadata": {},
   "source": [
    "By reprinting the first 5 rows, it is evident that the changes in the column names were correctly made. "
   ]
  },
  {
   "cell_type": "markdown",
   "metadata": {},
   "source": [
    "### Creation of the hiring column"
   ]
  },
  {
   "cell_type": "markdown",
   "metadata": {},
   "source": [
    "Since the objective of the project is to analyze the hiring of candidates, it is necessary to clearly identify who was hired. For this purpose, the hiredStatus column was created, which indicates whether a candidate was hired or not.\n",
    "\n",
    "A candidate in the requirements is considered hired only if both his Code Challenge Score and Technical Interview Score are greater than or equal to 7.  The information becomes clearer for integration with the database and the required visualizations.\n"
   ]
  },
  {
   "cell_type": "code",
   "execution_count": 8,
   "metadata": {},
   "outputs": [
    {
     "name": "stdout",
     "output_type": "stream",
     "text": [
      "    firstName    lastName                      email applicationDate  country  \\\n",
      "0  Bernadette   Langworth        leonard91@yahoo.com      2021-02-26   Norway   \n",
      "1      Camryn    Reynolds        zelda56@hotmail.com      2021-09-09   Panama   \n",
      "2       Larue      Spinka   okey_schultz41@gmail.com      2020-04-14  Belarus   \n",
      "3        Arch      Spinka     elvera_kulas@yahoo.com      2020-10-01  Eritrea   \n",
      "4       Larue  Altenwerth  minnie.gislason@gmail.com      2020-05-20  Myanmar   \n",
      "\n",
      "   yearsOfExperience  seniority                         technology  \\\n",
      "0                  2     Intern                      Data Engineer   \n",
      "1                 10     Intern                      Data Engineer   \n",
      "2                  4  Mid-Level                     Client Success   \n",
      "3                 25    Trainee                          QA Manual   \n",
      "4                 13  Mid-Level  Social Media Community Management   \n",
      "\n",
      "   codeChallengeScore  technicalInterviewScore hiredStatus  \n",
      "0                   3                        3          No  \n",
      "1                   2                       10          No  \n",
      "2                  10                        9         Yes  \n",
      "3                   7                        1          No  \n",
      "4                   9                        7         Yes  \n"
     ]
    }
   ],
   "source": [
    "df[\"hiredStatus\"] = (df[\"codeChallengeScore\"] >= 7) & (df[\"technicalInterviewScore\"] >= 7)\n",
    "df[\"hiredStatus\"] = df[\"hiredStatus\"].map({True: \"Yes\", False: \"No\"})\n",
    "print(df.head())  "
   ]
  },
  {
   "cell_type": "markdown",
   "metadata": {},
   "source": [
    "### idCandidates creation "
   ]
  },
  {
   "cell_type": "markdown",
   "metadata": {},
   "source": [
    "It is important that the data have a unique identification, as this facilitates its handling in databases and ensures that each candidate can be individually referenced.\n",
    "\n",
    "Assign a unique identifier to each candidate, which avoids duplication and facilitates data traceability.\n",
    "Improve the structure of the dataset for its subsequent migration to a relational database."
   ]
  },
  {
   "cell_type": "code",
   "execution_count": 10,
   "metadata": {},
   "outputs": [
    {
     "name": "stdout",
     "output_type": "stream",
     "text": [
      "   idCandidates   firstName    lastName                      email  \\\n",
      "0             1  Bernadette   Langworth        leonard91@yahoo.com   \n",
      "1             2      Camryn    Reynolds        zelda56@hotmail.com   \n",
      "2             3       Larue      Spinka   okey_schultz41@gmail.com   \n",
      "3             4        Arch      Spinka     elvera_kulas@yahoo.com   \n",
      "4             5       Larue  Altenwerth  minnie.gislason@gmail.com   \n",
      "\n",
      "  applicationDate  country  yearsOfExperience  seniority  \\\n",
      "0      2021-02-26   Norway                  2     Intern   \n",
      "1      2021-09-09   Panama                 10     Intern   \n",
      "2      2020-04-14  Belarus                  4  Mid-Level   \n",
      "3      2020-10-01  Eritrea                 25    Trainee   \n",
      "4      2020-05-20  Myanmar                 13  Mid-Level   \n",
      "\n",
      "                          technology  codeChallengeScore  \\\n",
      "0                      Data Engineer                   3   \n",
      "1                      Data Engineer                   2   \n",
      "2                     Client Success                  10   \n",
      "3                          QA Manual                   7   \n",
      "4  Social Media Community Management                   9   \n",
      "\n",
      "   technicalInterviewScore hiredStatus  \n",
      "0                        3          No  \n",
      "1                       10          No  \n",
      "2                        9         Yes  \n",
      "3                        1          No  \n",
      "4                        7         Yes  \n"
     ]
    }
   ],
   "source": [
    "df[\"idCandidates\"] = df.index + 1 \n",
    "column_order = ['idCandidates'] + [col for col in df.columns if col != 'idCandidates']\n",
    "df = df[column_order]\n",
    "\n",
    "print(df.head())  \n"
   ]
  },
  {
   "cell_type": "markdown",
   "metadata": {},
   "source": [
    "### Migration of the transformed dataframe to the database"
   ]
  },
  {
   "cell_type": "markdown",
   "metadata": {},
   "source": [
    "Once the data was transformed and the columns needed for the analysis were created, it was migrated to a database in a new table called transformedCandidates.\n",
    "\n",
    "Importance of this migration:\n",
    "It allows storing the data in a structured and optimized environment for queries.\n",
    "It facilitates the generation of reports and visualizations based on the database, instead of the original CSV file.\n",
    "Ensures the persistence and accessibility of the information for future queries and analysis."
   ]
  },
  {
   "cell_type": "code",
   "execution_count": 11,
   "metadata": {},
   "outputs": [
    {
     "name": "stdout",
     "output_type": "stream",
     "text": [
      "Datos insertados correctamente\n"
     ]
    }
   ],
   "source": [
    "df.to_sql(\"transformedCandidates\", engine, if_exists=\"replace\", index=False)\n",
    "print(\"Datos insertados correctamente\")"
   ]
  },
  {
   "cell_type": "markdown",
   "metadata": {},
   "source": [
    "\n",
    "Data was correctly inserted into the table, ensuring that the structure is consistent with the project objectives."
   ]
  },
  {
   "cell_type": "markdown",
   "metadata": {},
   "source": [
    "### Verification of the Data Load in the Database"
   ]
  },
  {
   "cell_type": "markdown",
   "metadata": {},
   "source": [
    "This step consists of retrieving the data from the transformedCandidates table to verify that the migration was performed correctly and that the changes applied during the process are reflected in the database.\n",
    "\n",
    "This ensures that: The data was inserted without errors, The transformations performed (such as column renaming, creation of hiredStatus and idCandidates) were applied correctly."
   ]
  },
  {
   "cell_type": "code",
   "execution_count": 12,
   "metadata": {},
   "outputs": [
    {
     "name": "stdout",
     "output_type": "stream",
     "text": [
      "   idCandidates   firstName    lastName                      email  \\\n",
      "0             1  Bernadette   Langworth        leonard91@yahoo.com   \n",
      "1             2      Camryn    Reynolds        zelda56@hotmail.com   \n",
      "2             3       Larue      Spinka   okey_schultz41@gmail.com   \n",
      "3             4        Arch      Spinka     elvera_kulas@yahoo.com   \n",
      "4             5       Larue  Altenwerth  minnie.gislason@gmail.com   \n",
      "\n",
      "  applicationDate  country  yearsOfExperience  seniority  \\\n",
      "0      2021-02-26   Norway                  2     Intern   \n",
      "1      2021-09-09   Panama                 10     Intern   \n",
      "2      2020-04-14  Belarus                  4  Mid-Level   \n",
      "3      2020-10-01  Eritrea                 25    Trainee   \n",
      "4      2020-05-20  Myanmar                 13  Mid-Level   \n",
      "\n",
      "                          technology  codeChallengeScore  \\\n",
      "0                      Data Engineer                   3   \n",
      "1                      Data Engineer                   2   \n",
      "2                     Client Success                  10   \n",
      "3                          QA Manual                   7   \n",
      "4  Social Media Community Management                   9   \n",
      "\n",
      "   technicalInterviewScore hiredStatus  \n",
      "0                        3          No  \n",
      "1                       10          No  \n",
      "2                        9         Yes  \n",
      "3                        1          No  \n",
      "4                        7         Yes  \n"
     ]
    }
   ],
   "source": [
    "df = pd.read_sql_query('SELECT * FROM \"transformedCandidates\"', engine)\n",
    "print(df.head())\n"
   ]
  },
  {
   "cell_type": "markdown",
   "metadata": {},
   "source": [
    "The structure of the table is consistent with the project objectives."
   ]
  },
  {
   "cell_type": "markdown",
   "metadata": {},
   "source": [
    "A record count is performed on the DataFrame to verify the total amount of data after migration and transformation. This ensures that there is no loss of information during the process and that the database contains the expected number of rows. Which correctly counts the expected number of rows. "
   ]
  },
  {
   "cell_type": "code",
   "execution_count": null,
   "metadata": {},
   "outputs": [
    {
     "data": {
      "text/plain": [
       "idCandidates               50000\n",
       "firstName                  50000\n",
       "lastName                   50000\n",
       "email                      50000\n",
       "applicationDate            50000\n",
       "country                    50000\n",
       "yearsOfExperience          50000\n",
       "Seniority                  50000\n",
       "technology                 50000\n",
       "codeChallengeScore         50000\n",
       "technicalInterviewScore    50000\n",
       "HiredStatus                50000\n",
       "dtype: int64"
      ]
     },
     "execution_count": 12,
     "metadata": {},
     "output_type": "execute_result"
    }
   ],
   "source": [
    "df.count()"
   ]
  },
  {
   "cell_type": "markdown",
   "metadata": {},
   "source": [
    "### Conclusions and Observations"
   ]
  },
  {
   "cell_type": "markdown",
   "metadata": {},
   "source": [
    "The process carried out in this project allowed to efficiently transform and migrate the data from a CSV file to a relational database, ensuring the integrity and quality of the information. The key points are highlighted below:\n",
    "\n",
    "Data Normalization:\n",
    "\n",
    "Columns were renamed using camelCase to improve consistency and facilitate integration with databases and APIs.\n",
    "Creation of Essential Columns:\n",
    "\n",
    "The hiredStatus column was generated to easily identify which candidates were admitted according to the established criteria.\n",
    "A unique identifier idCandidates was added to facilitate the management and traceability of records in the database.\n",
    "Problem Data Detection:\n",
    "\n",
    "Reviewed null values and duplicate data to ensure dataset quality prior to migration.\n",
    "Migration to the Database:\n",
    "\n",
    "The transformed data was stored in the transformedCandidates table, ensuring that all modifications made were reflected correctly.\n",
    "A subsequent query was performed to verify the correct insertion of the data.\n",
    "Final Validation:\n",
    "\n",
    "The total number of records after the transformation was counted to confirm that there was no loss of information in the process."
   ]
  }
 ],
 "metadata": {
  "kernelspec": {
   "display_name": "venv",
   "language": "python",
   "name": "python3"
  },
  "language_info": {
   "codemirror_mode": {
    "name": "ipython",
    "version": 3
   },
   "file_extension": ".py",
   "mimetype": "text/x-python",
   "name": "python",
   "nbconvert_exporter": "python",
   "pygments_lexer": "ipython3",
   "version": "3.13.2"
  }
 },
 "nbformat": 4,
 "nbformat_minor": 2
}
