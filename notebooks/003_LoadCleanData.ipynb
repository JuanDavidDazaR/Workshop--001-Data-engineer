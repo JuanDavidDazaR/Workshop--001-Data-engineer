{
 "cells": [
  {
   "cell_type": "markdown",
   "metadata": {},
   "source": [
    "### carga de los datos limpios a la abse de datos"
   ]
  },
  {
   "cell_type": "code",
   "execution_count": 1,
   "metadata": {},
   "outputs": [],
   "source": [
    "import sys\n",
    "import os\n",
    "sys.path.append(os.path.abspath(os.path.join(os.getcwd(), \"..\")))\n",
    "import pandas as pd\n",
    "from src.database.db_conection import connect_db\n"
   ]
  },
  {
   "cell_type": "code",
   "execution_count": 2,
   "metadata": {},
   "outputs": [],
   "source": [
    "engine = connect_db()"
   ]
  },
  {
   "cell_type": "code",
   "execution_count": 3,
   "metadata": {},
   "outputs": [
    {
     "name": "stdout",
     "output_type": "stream",
     "text": [
      "   First Name   Last Name                      Email Application Date  \\\n",
      "0  Bernadette   Langworth        leonard91@yahoo.com       2021-02-26   \n",
      "1      Camryn    Reynolds        zelda56@hotmail.com       2021-09-09   \n",
      "2       Larue      Spinka   okey_schultz41@gmail.com       2020-04-14   \n",
      "3        Arch      Spinka     elvera_kulas@yahoo.com       2020-10-01   \n",
      "4       Larue  Altenwerth  minnie.gislason@gmail.com       2020-05-20   \n",
      "\n",
      "   Country  YOE  Seniority                         Technology  \\\n",
      "0   Norway    2     Intern                      Data Engineer   \n",
      "1   Panama   10     Intern                      Data Engineer   \n",
      "2  Belarus    4  Mid-Level                     Client Success   \n",
      "3  Eritrea   25    Trainee                          QA Manual   \n",
      "4  Myanmar   13  Mid-Level  Social Media Community Management   \n",
      "\n",
      "   Code Challenge Score  Technical Interview Score  \n",
      "0                     3                          3  \n",
      "1                     2                         10  \n",
      "2                    10                          9  \n",
      "3                     7                          1  \n",
      "4                     9                          7  \n"
     ]
    }
   ],
   "source": [
    "df = pd.read_sql_query('SELECT * FROM \"rawCandidates\"', engine)\n",
    "print(df.head())"
   ]
  },
  {
   "cell_type": "code",
   "execution_count": 4,
   "metadata": {},
   "outputs": [
    {
     "name": "stdout",
     "output_type": "stream",
     "text": [
      "No hay candidatos duplicados.\n"
     ]
    }
   ],
   "source": [
    "duplicates = df[df.duplicated(subset=['First Name', 'Last Name', 'Email'], keep=False)]\n",
    "\n",
    "if not duplicates.empty:\n",
    "    print(\"Candidatos duplicados encontrados:\")\n",
    "    print(duplicates)\n",
    "else:\n",
    "    print(\"No hay candidatos duplicados.\")"
   ]
  },
  {
   "cell_type": "code",
   "execution_count": 5,
   "metadata": {},
   "outputs": [
    {
     "name": "stdout",
     "output_type": "stream",
     "text": [
      "Valores nulos encontrados:\n",
      "First Name                   0\n",
      "Last Name                    0\n",
      "Email                        0\n",
      "Application Date             0\n",
      "Country                      0\n",
      "YOE                          0\n",
      "Seniority                    0\n",
      "Technology                   0\n",
      "Code Challenge Score         0\n",
      "Technical Interview Score    0\n",
      "dtype: int64\n"
     ]
    }
   ],
   "source": [
    "null_counts = df.isnull().sum()\n",
    "\n",
    "if not null_counts.empty:\n",
    "    print(\"Valores nulos encontrados:\")\n",
    "    print(null_counts)\n",
    "else:\n",
    "    print(\"No hay valores nulos.\")"
   ]
  },
  {
   "cell_type": "code",
   "execution_count": 6,
   "metadata": {},
   "outputs": [
    {
     "name": "stdout",
     "output_type": "stream",
     "text": [
      "    firstName    lastName                      email applicationDate  Country  \\\n",
      "0  Bernadette   Langworth        leonard91@yahoo.com      2021-02-26   Norway   \n",
      "1      Camryn    Reynolds        zelda56@hotmail.com      2021-09-09   Panama   \n",
      "2       Larue      Spinka   okey_schultz41@gmail.com      2020-04-14  Belarus   \n",
      "3        Arch      Spinka     elvera_kulas@yahoo.com      2020-10-01  Eritrea   \n",
      "4       Larue  Altenwerth  minnie.gislason@gmail.com      2020-05-20  Myanmar   \n",
      "\n",
      "   yearsOfExperience  Seniority                         technology  \\\n",
      "0                  2     Intern                      Data Engineer   \n",
      "1                 10     Intern                      Data Engineer   \n",
      "2                  4  Mid-Level                     Client Success   \n",
      "3                 25    Trainee                          QA Manual   \n",
      "4                 13  Mid-Level  Social Media Community Management   \n",
      "\n",
      "   codeChallengeScore  technicalInterviewScore  \n",
      "0                   3                        3  \n",
      "1                   2                       10  \n",
      "2                  10                        9  \n",
      "3                   7                        1  \n",
      "4                   9                        7  \n"
     ]
    }
   ],
   "source": [
    "df = df.rename(columns={\"First Name\": \"firstName\", \n",
    "                        \"Last Name\": \"lastName\", \n",
    "                        \"Email\": \"email\", \n",
    "                        \"country\": \"country\",\n",
    "                        \"Application Date\": \"applicationDate\",\n",
    "                        \"YOE\": \"yearsOfExperience\",\n",
    "                        \"Senority\": \"seniority\",\n",
    "                        \"Technology\": \"technology\",\n",
    "                        \"Code Challenge Score\": \"codeChallengeScore\",\n",
    "                        \"Technical Interview Score\": \"technicalInterviewScore\"})\n",
    "\n",
    "print(df.head())\n"
   ]
  },
  {
   "cell_type": "code",
   "execution_count": 7,
   "metadata": {},
   "outputs": [
    {
     "name": "stdout",
     "output_type": "stream",
     "text": [
      "    firstName    lastName                      email applicationDate  Country  \\\n",
      "0  Bernadette   Langworth        leonard91@yahoo.com      2021-02-26   Norway   \n",
      "1      Camryn    Reynolds        zelda56@hotmail.com      2021-09-09   Panama   \n",
      "2       Larue      Spinka   okey_schultz41@gmail.com      2020-04-14  Belarus   \n",
      "3        Arch      Spinka     elvera_kulas@yahoo.com      2020-10-01  Eritrea   \n",
      "4       Larue  Altenwerth  minnie.gislason@gmail.com      2020-05-20  Myanmar   \n",
      "\n",
      "   yearsOfExperience  Seniority                         technology  \\\n",
      "0                  2     Intern                      Data Engineer   \n",
      "1                 10     Intern                      Data Engineer   \n",
      "2                  4  Mid-Level                     Client Success   \n",
      "3                 25    Trainee                          QA Manual   \n",
      "4                 13  Mid-Level  Social Media Community Management   \n",
      "\n",
      "   codeChallengeScore  technicalInterviewScore HiredStatus  \n",
      "0                   3                        3          No  \n",
      "1                   2                       10          No  \n",
      "2                  10                        9         Yes  \n",
      "3                   7                        1          No  \n",
      "4                   9                        7         Yes  \n"
     ]
    }
   ],
   "source": [
    "df[\"HiredStatus\"] = (df[\"codeChallengeScore\"] >= 7) & (df[\"technicalInterviewScore\"] >= 7)\n",
    "df[\"HiredStatus\"] = df[\"HiredStatus\"].map({True: \"Yes\", False: \"No\"})\n",
    "print(df.head())  "
   ]
  },
  {
   "cell_type": "code",
   "execution_count": 8,
   "metadata": {},
   "outputs": [
    {
     "name": "stdout",
     "output_type": "stream",
     "text": [
      "    firstName    lastName                      email applicationDate  \\\n",
      "0  Bernadette   Langworth        leonard91@yahoo.com      2021-02-26   \n",
      "1      Camryn    Reynolds        zelda56@hotmail.com      2021-09-09   \n",
      "2       Larue      Spinka   okey_schultz41@gmail.com      2020-04-14   \n",
      "3        Arch      Spinka     elvera_kulas@yahoo.com      2020-10-01   \n",
      "4       Larue  Altenwerth  minnie.gislason@gmail.com      2020-05-20   \n",
      "5        Alec      Abbott   juanita_hansen@gmail.com      2019-08-17   \n",
      "6     Allison      Jacobs   alba_rolfson27@yahoo.com      2018-05-18   \n",
      "7         Nya      Skiles   madisen.zulauf@gmail.com      2021-12-09   \n",
      "8        Mose       Lakin   dale_murazik@hotmail.com      2018-03-13   \n",
      "9    Terrance       Zieme       dustin31@hotmail.com      2022-04-08   \n",
      "\n",
      "             Country  yearsOfExperience  Seniority  \\\n",
      "0             Norway                  2     Intern   \n",
      "1             Panama                 10     Intern   \n",
      "2            Belarus                  4  Mid-Level   \n",
      "3            Eritrea                 25    Trainee   \n",
      "4            Myanmar                 13  Mid-Level   \n",
      "5           Zimbabwe                  8     Junior   \n",
      "6  Wallis and Futuna                 19    Trainee   \n",
      "7            Myanmar                  1       Lead   \n",
      "8              Italy                 18       Lead   \n",
      "9        Timor-Leste                 25       Lead   \n",
      "\n",
      "                          technology  codeChallengeScore  \\\n",
      "0                      Data Engineer                   3   \n",
      "1                      Data Engineer                   2   \n",
      "2                     Client Success                  10   \n",
      "3                          QA Manual                   7   \n",
      "4  Social Media Community Management                   9   \n",
      "5           Adobe Experience Manager                   2   \n",
      "6                              Sales                   2   \n",
      "7                           Mulesoft                   2   \n",
      "8  Social Media Community Management                   7   \n",
      "9                             DevOps                   2   \n",
      "\n",
      "   technicalInterviewScore HiredStatus  \n",
      "0                        3          No  \n",
      "1                       10          No  \n",
      "2                        9         Yes  \n",
      "3                        1          No  \n",
      "4                        7         Yes  \n",
      "5                        9          No  \n",
      "6                        9          No  \n",
      "7                        5          No  \n",
      "8                       10         Yes  \n",
      "9                        0          No  \n"
     ]
    }
   ],
   "source": [
    "print(df.head(10))"
   ]
  },
  {
   "cell_type": "code",
   "execution_count": 9,
   "metadata": {},
   "outputs": [
    {
     "name": "stdout",
     "output_type": "stream",
     "text": [
      "   idCandidates   firstName    lastName                      email  \\\n",
      "0             1  Bernadette   Langworth        leonard91@yahoo.com   \n",
      "1             2      Camryn    Reynolds        zelda56@hotmail.com   \n",
      "2             3       Larue      Spinka   okey_schultz41@gmail.com   \n",
      "3             4        Arch      Spinka     elvera_kulas@yahoo.com   \n",
      "4             5       Larue  Altenwerth  minnie.gislason@gmail.com   \n",
      "\n",
      "  applicationDate  Country  yearsOfExperience  Seniority  \\\n",
      "0      2021-02-26   Norway                  2     Intern   \n",
      "1      2021-09-09   Panama                 10     Intern   \n",
      "2      2020-04-14  Belarus                  4  Mid-Level   \n",
      "3      2020-10-01  Eritrea                 25    Trainee   \n",
      "4      2020-05-20  Myanmar                 13  Mid-Level   \n",
      "\n",
      "                          technology  codeChallengeScore  \\\n",
      "0                      Data Engineer                   3   \n",
      "1                      Data Engineer                   2   \n",
      "2                     Client Success                  10   \n",
      "3                          QA Manual                   7   \n",
      "4  Social Media Community Management                   9   \n",
      "\n",
      "   technicalInterviewScore HiredStatus  \n",
      "0                        3          No  \n",
      "1                       10          No  \n",
      "2                        9         Yes  \n",
      "3                        1          No  \n",
      "4                        7         Yes  \n"
     ]
    }
   ],
   "source": [
    "df[\"idCandidates\"] = df.index + 1 \n",
    "column_order = ['idCandidates'] + [col for col in df.columns if col != 'idCandidates']\n",
    "df = df[column_order]\n",
    "\n",
    "print(df.head())  \n"
   ]
  },
  {
   "cell_type": "code",
   "execution_count": 10,
   "metadata": {},
   "outputs": [
    {
     "name": "stdout",
     "output_type": "stream",
     "text": [
      "Datos insertados correctamente\n"
     ]
    }
   ],
   "source": [
    "df.to_sql(\"transformedCandidates\", engine, if_exists=\"replace\", index=False)\n",
    "print(\"Datos insertados correctamente\")"
   ]
  },
  {
   "cell_type": "code",
   "execution_count": 12,
   "metadata": {},
   "outputs": [
    {
     "name": "stdout",
     "output_type": "stream",
     "text": [
      "   idCandidates   firstName    lastName                      email  \\\n",
      "0             1  Bernadette   Langworth        leonard91@yahoo.com   \n",
      "1             2      Camryn    Reynolds        zelda56@hotmail.com   \n",
      "2             3       Larue      Spinka   okey_schultz41@gmail.com   \n",
      "3             4        Arch      Spinka     elvera_kulas@yahoo.com   \n",
      "4             5       Larue  Altenwerth  minnie.gislason@gmail.com   \n",
      "\n",
      "  applicationDate  Country  yearsOfExperience  Seniority  \\\n",
      "0      2021-02-26   Norway                  2     Intern   \n",
      "1      2021-09-09   Panama                 10     Intern   \n",
      "2      2020-04-14  Belarus                  4  Mid-Level   \n",
      "3      2020-10-01  Eritrea                 25    Trainee   \n",
      "4      2020-05-20  Myanmar                 13  Mid-Level   \n",
      "\n",
      "                          technology  codeChallengeScore  \\\n",
      "0                      Data Engineer                   3   \n",
      "1                      Data Engineer                   2   \n",
      "2                     Client Success                  10   \n",
      "3                          QA Manual                   7   \n",
      "4  Social Media Community Management                   9   \n",
      "\n",
      "   technicalInterviewScore HiredStatus  \n",
      "0                        3          No  \n",
      "1                       10          No  \n",
      "2                        9         Yes  \n",
      "3                        1          No  \n",
      "4                        7         Yes  \n"
     ]
    }
   ],
   "source": [
    "df = pd.read_sql_query('SELECT * FROM \"transformedCandidates\"', engine)\n",
    "print(df.head())\n"
   ]
  },
  {
   "cell_type": "code",
   "execution_count": 13,
   "metadata": {},
   "outputs": [
    {
     "data": {
      "text/plain": [
       "idCandidates               50000\n",
       "firstName                  50000\n",
       "lastName                   50000\n",
       "email                      50000\n",
       "applicationDate            50000\n",
       "Country                    50000\n",
       "yearsOfExperience          50000\n",
       "Seniority                  50000\n",
       "technology                 50000\n",
       "codeChallengeScore         50000\n",
       "technicalInterviewScore    50000\n",
       "HiredStatus                50000\n",
       "dtype: int64"
      ]
     },
     "execution_count": 13,
     "metadata": {},
     "output_type": "execute_result"
    }
   ],
   "source": [
    "df.count()"
   ]
  }
 ],
 "metadata": {
  "kernelspec": {
   "display_name": "venv",
   "language": "python",
   "name": "python3"
  },
  "language_info": {
   "codemirror_mode": {
    "name": "ipython",
    "version": 3
   },
   "file_extension": ".py",
   "mimetype": "text/x-python",
   "name": "python",
   "nbconvert_exporter": "python",
   "pygments_lexer": "ipython3",
   "version": "3.13.2"
  }
 },
 "nbformat": 4,
 "nbformat_minor": 2
}
