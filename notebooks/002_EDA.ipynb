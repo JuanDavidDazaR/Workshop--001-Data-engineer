{
 "cells": [
  {
   "cell_type": "markdown",
   "metadata": {},
   "source": [
    "### EDA"
   ]
  },
  {
   "cell_type": "code",
   "execution_count": 11,
   "metadata": {},
   "outputs": [],
   "source": [
    "import sys\n",
    "import os\n",
    "sys.path.append(os.path.abspath(os.path.join(os.getcwd(), \"..\")))\n",
    "import pandas as pd\n",
    "import psycopg2\n",
    "from src.database.db_conection import connect_db"
   ]
  },
  {
   "cell_type": "code",
   "execution_count": 12,
   "metadata": {},
   "outputs": [],
   "source": [
    "conn = connect_db(db_name=\"candidates\")"
   ]
  },
  {
   "cell_type": "code",
   "execution_count": 13,
   "metadata": {},
   "outputs": [
    {
     "name": "stderr",
     "output_type": "stream",
     "text": [
      "C:\\Users\\ASUS\\AppData\\Local\\Temp\\ipykernel_2336\\383074313.py:1: UserWarning: pandas only supports SQLAlchemy connectable (engine/connection) or database string URI or sqlite3 DBAPI2 connection. Other DBAPI2 objects are not tested. Please consider using SQLAlchemy.\n",
      "  df = pd.read_sql_query(\"SELECT * FROM raw_candidates\", conn)\n"
     ]
    },
    {
     "name": "stdout",
     "output_type": "stream",
     "text": [
      "       id  first_name   last_name                      email application_date  \\\n",
      "0  100001  Bernadette   Langworth        leonard91@yahoo.com       2021-02-26   \n",
      "1  100002      Camryn    Reynolds        zelda56@hotmail.com       2021-09-09   \n",
      "2  100003       Larue      Spinka   okey_schultz41@gmail.com       2020-04-14   \n",
      "3  100004        Arch      Spinka     elvera_kulas@yahoo.com       2020-10-01   \n",
      "4  100005       Larue  Altenwerth  minnie.gislason@gmail.com       2020-05-20   \n",
      "\n",
      "   country  yoe  seniority                         technology  \\\n",
      "0   Norway    2     Intern                      Data Engineer   \n",
      "1   Panama   10     Intern                      Data Engineer   \n",
      "2  Belarus    4  Mid-Level                     Client Success   \n",
      "3  Eritrea   25    Trainee                          QA Manual   \n",
      "4  Myanmar   13  Mid-Level  Social Media Community Management   \n",
      "\n",
      "   code_challenge_score  technical_interview_score  \n",
      "0                     3                          3  \n",
      "1                     2                         10  \n",
      "2                    10                          9  \n",
      "3                     7                          1  \n",
      "4                     9                          7  \n"
     ]
    }
   ],
   "source": [
    "df = pd.read_sql_query(\"SELECT * FROM raw_candidates\", conn)\n",
    "print(df.head())"
   ]
  },
  {
   "cell_type": "code",
   "execution_count": 14,
   "metadata": {},
   "outputs": [
    {
     "data": {
      "text/html": [
       "<div>\n",
       "<style scoped>\n",
       "    .dataframe tbody tr th:only-of-type {\n",
       "        vertical-align: middle;\n",
       "    }\n",
       "\n",
       "    .dataframe tbody tr th {\n",
       "        vertical-align: top;\n",
       "    }\n",
       "\n",
       "    .dataframe thead th {\n",
       "        text-align: right;\n",
       "    }\n",
       "</style>\n",
       "<table border=\"1\" class=\"dataframe\">\n",
       "  <thead>\n",
       "    <tr style=\"text-align: right;\">\n",
       "      <th></th>\n",
       "      <th>id</th>\n",
       "      <th>yoe</th>\n",
       "      <th>code_challenge_score</th>\n",
       "      <th>technical_interview_score</th>\n",
       "    </tr>\n",
       "  </thead>\n",
       "  <tbody>\n",
       "    <tr>\n",
       "      <th>count</th>\n",
       "      <td>50000.000000</td>\n",
       "      <td>50000.000000</td>\n",
       "      <td>50000.000000</td>\n",
       "      <td>50000.000000</td>\n",
       "    </tr>\n",
       "    <tr>\n",
       "      <th>mean</th>\n",
       "      <td>125000.500000</td>\n",
       "      <td>15.286980</td>\n",
       "      <td>4.996400</td>\n",
       "      <td>5.003880</td>\n",
       "    </tr>\n",
       "    <tr>\n",
       "      <th>std</th>\n",
       "      <td>14433.901067</td>\n",
       "      <td>8.830652</td>\n",
       "      <td>3.166896</td>\n",
       "      <td>3.165082</td>\n",
       "    </tr>\n",
       "    <tr>\n",
       "      <th>min</th>\n",
       "      <td>100001.000000</td>\n",
       "      <td>0.000000</td>\n",
       "      <td>0.000000</td>\n",
       "      <td>0.000000</td>\n",
       "    </tr>\n",
       "    <tr>\n",
       "      <th>25%</th>\n",
       "      <td>112500.750000</td>\n",
       "      <td>8.000000</td>\n",
       "      <td>2.000000</td>\n",
       "      <td>2.000000</td>\n",
       "    </tr>\n",
       "    <tr>\n",
       "      <th>50%</th>\n",
       "      <td>125000.500000</td>\n",
       "      <td>15.000000</td>\n",
       "      <td>5.000000</td>\n",
       "      <td>5.000000</td>\n",
       "    </tr>\n",
       "    <tr>\n",
       "      <th>75%</th>\n",
       "      <td>137500.250000</td>\n",
       "      <td>23.000000</td>\n",
       "      <td>8.000000</td>\n",
       "      <td>8.000000</td>\n",
       "    </tr>\n",
       "    <tr>\n",
       "      <th>max</th>\n",
       "      <td>150000.000000</td>\n",
       "      <td>30.000000</td>\n",
       "      <td>10.000000</td>\n",
       "      <td>10.000000</td>\n",
       "    </tr>\n",
       "  </tbody>\n",
       "</table>\n",
       "</div>"
      ],
      "text/plain": [
       "                  id           yoe  code_challenge_score  \\\n",
       "count   50000.000000  50000.000000          50000.000000   \n",
       "mean   125000.500000     15.286980              4.996400   \n",
       "std     14433.901067      8.830652              3.166896   \n",
       "min    100001.000000      0.000000              0.000000   \n",
       "25%    112500.750000      8.000000              2.000000   \n",
       "50%    125000.500000     15.000000              5.000000   \n",
       "75%    137500.250000     23.000000              8.000000   \n",
       "max    150000.000000     30.000000             10.000000   \n",
       "\n",
       "       technical_interview_score  \n",
       "count               50000.000000  \n",
       "mean                    5.003880  \n",
       "std                     3.165082  \n",
       "min                     0.000000  \n",
       "25%                     2.000000  \n",
       "50%                     5.000000  \n",
       "75%                     8.000000  \n",
       "max                    10.000000  "
      ]
     },
     "execution_count": 14,
     "metadata": {},
     "output_type": "execute_result"
    }
   ],
   "source": [
    "df.describe()"
   ]
  }
 ],
 "metadata": {
  "kernelspec": {
   "display_name": "venv",
   "language": "python",
   "name": "python3"
  },
  "language_info": {
   "codemirror_mode": {
    "name": "ipython",
    "version": 3
   },
   "file_extension": ".py",
   "mimetype": "text/x-python",
   "name": "python",
   "nbconvert_exporter": "python",
   "pygments_lexer": "ipython3",
   "version": "3.13.2"
  }
 },
 "nbformat": 4,
 "nbformat_minor": 2
}
